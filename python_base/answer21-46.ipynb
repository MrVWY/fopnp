{
 "cells": [
  {
   "cell_type": "code",
   "execution_count": 1,
   "metadata": {
    "collapsed": true,
    "pycharm": {
     "is_executing": false
    }
   },
   "outputs": [
    {
     "name": "stdout",
     "text": [
      "求和结果为： 7.0\n"
     ],
     "output_type": "stream"
    }
   ],
   "source": [
    "#21\n",
    "def sum(num1, num2):\n",
    "    return num1 + num2\n",
    "\n",
    "\n",
    "n1 = float(input('请输入一个自然数：'))\n",
    "n2 = float(input('请输入另一个自然数：'))\n",
    "\n",
    "print('求和结果为：', sum(n1, n2))\n"
   ]
  },
  {
   "cell_type": "code",
   "execution_count": 2,
   "outputs": [
    {
     "name": "stdout",
     "text": [
      "结果为 16.0\n"
     ],
     "output_type": "stream"
    }
   ],
   "source": [
    "#22\n",
    "import math\n",
    "\n",
    "\n",
    "def showPower(n):\n",
    "    return math.pow(2, n)\n",
    "\n",
    "\n",
    "num = int(input('请输入想查看2的几次方：'))\n",
    "print('结果为', showPower(num))\n",
    "\n",
    "\n"
   ],
   "metadata": {
    "collapsed": false,
    "pycharm": {
     "name": "#%%\n",
     "is_executing": false
    }
   }
  },
  {
   "cell_type": "code",
   "execution_count": 3,
   "outputs": [
    {
     "name": "stdout",
     "text": [
      "它可以被 [1, 2, 3, 4, 6] 整除\n"
     ],
     "output_type": "stream"
    }
   ],
   "source": [
    "#23\n",
    "def getFactor(num):\n",
    "    arr = []\n",
    "    for i in range(1, num):\n",
    "        if num % i == 0:\n",
    "            arr.append(i)\n",
    "    return arr\n",
    "\n",
    "\n",
    "num = int(input('请输入一个数：'))\n",
    "\n",
    "print('它可以被', getFactor(num), '整除')\n"
   ],
   "metadata": {
    "collapsed": false,
    "pycharm": {
     "name": "#%% \n",
     "is_executing": false
    }
   }
  },
  {
   "cell_type": "code",
   "execution_count": 4,
   "outputs": [
    {
     "name": "stdout",
     "text": [
      "二进制结果为： 0b1010\n八进制结果为： 0o12\n十六进制结果为： 0xa\n"
     ],
     "output_type": "stream"
    }
   ],
   "source": [
    "#24\n",
    "num = int(input('请输入一个数字：'))\n",
    "\n",
    "print('二进制结果为：', bin(num))\n",
    "print('八进制结果为：', oct(num))\n",
    "print('十六进制结果为：', hex(num))\n",
    "\n"
   ],
   "metadata": {
    "collapsed": false,
    "pycharm": {
     "name": "#%%\n",
     "is_executing": false
    }
   }
  },
  {
   "cell_type": "code",
   "execution_count": 5,
   "outputs": [
    {
     "name": "stdout",
     "text": [
      "该字符的ASCII值为： 65\n"
     ],
     "output_type": "stream"
    }
   ],
   "source": [
    "#25\n",
    "def findAscii(n):\n",
    "    return ord(n)\n",
    "\n",
    "\n",
    "print('该字符的ASCII值为：', findAscii(input('请输入一个字符：')))\n",
    "\n"
   ],
   "metadata": {
    "collapsed": false,
    "pycharm": {
     "name": "#%%\n",
     "is_executing": false
    }
   }
  },
  {
   "cell_type": "code",
   "execution_count": 6,
   "outputs": [
    {
     "name": "stdout",
     "text": [
      "1\n"
     ],
     "output_type": "stream"
    }
   ],
   "source": [
    "#26\n",
    "def gcd(a, b):\n",
    "    if a % b == 0:\n",
    "        return b\n",
    "    else:\n",
    "        return gcd(b, a % b)\n",
    "\n",
    "\n",
    "n, m = input('请输入两个数').split(' ')\n",
    "\n",
    "print(gcd(int(n), int(m)))\n",
    "\n"
   ],
   "metadata": {
    "collapsed": false,
    "pycharm": {
     "name": "#%%\n",
     "is_executing": false
    }
   }
  },
  {
   "cell_type": "code",
   "execution_count": 7,
   "outputs": [
    {
     "name": "stdout",
     "text": [
      "12.0\n"
     ],
     "output_type": "stream"
    }
   ],
   "source": [
    "#27\n",
    "def gcd(a, b):\n",
    "    if a % b == 0:\n",
    "        return b\n",
    "    else:\n",
    "        return gcd(b, a % b)\n",
    "\n",
    "\n",
    "def lcm(a, b):\n",
    "    return a * b / gcd(a, b)\n",
    "\n",
    "\n",
    "n, m = input('请输入两个数').split(' ')\n",
    "\n",
    "print(lcm(int(n), int(m)))\n",
    "\n"
   ],
   "metadata": {
    "collapsed": false,
    "pycharm": {
     "name": "#%%\n",
     "is_executing": false
    }
   }
  },
  {
   "cell_type": "code",
   "execution_count": 8,
   "outputs": [
    {
     "name": "stdout",
     "text": [
      "因子为 [1, 2, 3, 4, 6]\n"
     ],
     "output_type": "stream"
    }
   ],
   "source": [
    "#28\n",
    "def getFactor(num):\n",
    "    arr = []\n",
    "    for i in range(1, num):\n",
    "        if num % i == 0:\n",
    "            arr.append(i)\n",
    "    return arr\n",
    "\n",
    "\n",
    "num = int(input('请输入一个数：'))\n",
    "\n",
    "print('因子为', getFactor(num))\n"
   ],
   "metadata": {
    "collapsed": false,
    "pycharm": {
     "name": "#%%\n",
     "is_executing": false
    }
   }
  },
  {
   "cell_type": "code",
   "execution_count": 9,
   "outputs": [
    {
     "name": "stdout",
     "text": [
      "计算结果为： 12\n"
     ],
     "output_type": "stream"
    }
   ],
   "source": [
    "#29\n",
    "import re\n",
    "\n",
    "\n",
    "def add(a, b):\n",
    "    return a + b\n",
    "\n",
    "\n",
    "def sub(a, b):\n",
    "    return a - b\n",
    "\n",
    "\n",
    "def mul(a, b):\n",
    "    return a * b\n",
    "\n",
    "\n",
    "def div(a, b):\n",
    "    return a / b\n",
    "\n",
    "\n",
    "def cal(flag, a, b):\n",
    "    if re.match('add', flag):\n",
    "        return add(a, b)\n",
    "    elif re.match('sub', flag):\n",
    "        return sub(a, b)\n",
    "    elif re.match('mul', flag):\n",
    "        return mul(a, b)\n",
    "    elif re.match('div', flag):\n",
    "        return div(a, b)\n",
    "    else:\n",
    "        return 'err'\n",
    "\n",
    "\n",
    "operation = input('请输入操作码（add, sub, mul, div）:')\n",
    "n, m = input('请输入两个数').split(' ')\n",
    "print('计算结果为：', cal(operation, int(n), int(m)))\n",
    "\n"
   ],
   "metadata": {
    "collapsed": false,
    "pycharm": {
     "name": "#%%\n",
     "is_executing": false
    }
   }
  },
  {
   "cell_type": "code",
   "execution_count": 10,
   "outputs": [
    {
     "name": "stdout",
     "text": [
      "player1： [['♠', '4'], ['♠', '8'], ['♠', 'Q'], ['♣', '5'], ['♣', '9'], ['♣', 'A'], ['♥', '10'], ['♥', '8'], ['♥', '9'], ['♦', '5'], ['♦', '6'], ['♦', '9'], ['♦', 'A']]\nplayer2： [['♠', '6'], ['♣', '10'], ['♣', '3'], ['♣', '6'], ['♣', '7'], ['♣', 'Q'], ['♥', '6'], ['♥', '7'], ['♥', 'A'], ['♥', 'Q'], ['♦', '2'], ['♦', '3'], ['♦', '4']]\nplayer3： [['♠', '3'], ['♠', 'A'], ['♣', '2'], ['♣', '8'], ['♣', 'K'], ['♥', '4'], ['♥', '5'], ['♥', 'J'], ['♥', 'K'], ['♦', '10'], ['♦', '7'], ['♦', '8'], ['♦', 'K']]\nplayer4： [['♠', '10'], ['♠', '2'], ['♠', '5'], ['♠', '7'], ['♠', '9'], ['♠', 'J'], ['♠', 'K'], ['♣', '4'], ['♣', 'J'], ['♥', '2'], ['♥', '3'], ['♦', 'J'], ['♦', 'Q']]\n"
     ],
     "output_type": "stream"
    }
   ],
   "source": [
    "#30\n",
    "import random\n",
    "import operator\n",
    "\n",
    "\n",
    "def getPokers():\n",
    "    pokers = []\n",
    "    poker = []\n",
    "    for i in ['♥', '♠', '♦', '♣']:\n",
    "        for j in ['A', '2', '3', '4', '5', '6', '7', '8', '9', '10', 'J', 'Q', 'K']:\n",
    "            poker.append(i)\n",
    "            poker.append(j)\n",
    "            pokers.append(poker)\n",
    "            poker = []\n",
    "    return pokers\n",
    "\n",
    "\n",
    "pokers = getPokers()\n",
    "random.shuffle(pokers)  # 将序列的所有元素随机排序\n",
    "li = {}\n",
    "for player in ['player1', 'player2', 'player3', 'player4']:\n",
    "    b = random.sample(pokers, 13)\n",
    "    for s in b:\n",
    "        pokers.remove(s)\n",
    "    li.setdefault(player, b)\n",
    "\n",
    "print('player1：', sorted(li['player1'], key=operator.itemgetter(0, 1)))  # operator.itemgetter(0, 1)根据花色和数字来排序\n",
    "print('player2：', sorted(li['player2'], key=operator.itemgetter(0, 1)))\n",
    "print('player3：', sorted(li['player3'], key=operator.itemgetter(0, 1)))\n",
    "print('player4：', sorted(li['player4'], key=operator.itemgetter(0, 1)))\n",
    "\n"
   ],
   "metadata": {
    "collapsed": false,
    "pycharm": {
     "name": "#%%\n",
     "is_executing": false
    }
   }
  },
  {
   "cell_type": "code",
   "execution_count": 11,
   "outputs": [
    {
     "name": "stdout",
     "text": [
      "                                  2017\n\n      January                   February                   March\nMo Tu We Th Fr Sa Su      Mo Tu We Th Fr Sa Su      Mo Tu We Th Fr Sa Su\n                   1             1  2  3  4  5             1  2  3  4  5\n 2  3  4  5  6  7  8       6  7  8  9 10 11 12       6  7  8  9 10 11 12\n 9 10 11 12 13 14 15      13 14 15 16 17 18 19      13 14 15 16 17 18 19\n16 17 18 19 20 21 22      20 21 22 23 24 25 26      20 21 22 23 24 25 26\n23 24 25 26 27 28 29      27 28                     27 28 29 30 31\n30 31\n\n       April                      May                       June\nMo Tu We Th Fr Sa Su      Mo Tu We Th Fr Sa Su      Mo Tu We Th Fr Sa Su\n                1  2       1  2  3  4  5  6  7                1  2  3  4\n 3  4  5  6  7  8  9       8  9 10 11 12 13 14       5  6  7  8  9 10 11\n10 11 12 13 14 15 16      15 16 17 18 19 20 21      12 13 14 15 16 17 18\n17 18 19 20 21 22 23      22 23 24 25 26 27 28      19 20 21 22 23 24 25\n24 25 26 27 28 29 30      29 30 31                  26 27 28 29 30\n\n        July                     August                  September\nMo Tu We Th Fr Sa Su      Mo Tu We Th Fr Sa Su      Mo Tu We Th Fr Sa Su\n                1  2          1  2  3  4  5  6                   1  2  3\n 3  4  5  6  7  8  9       7  8  9 10 11 12 13       4  5  6  7  8  9 10\n10 11 12 13 14 15 16      14 15 16 17 18 19 20      11 12 13 14 15 16 17\n17 18 19 20 21 22 23      21 22 23 24 25 26 27      18 19 20 21 22 23 24\n24 25 26 27 28 29 30      28 29 30 31               25 26 27 28 29 30\n31\n\n      October                   November                  December\nMo Tu We Th Fr Sa Su      Mo Tu We Th Fr Sa Su      Mo Tu We Th Fr Sa Su\n                   1             1  2  3  4  5                   1  2  3\n 2  3  4  5  6  7  8       6  7  8  9 10 11 12       4  5  6  7  8  9 10\n 9 10 11 12 13 14 15      13 14 15 16 17 18 19      11 12 13 14 15 16 17\n16 17 18 19 20 21 22      20 21 22 23 24 25 26      18 19 20 21 22 23 24\n23 24 25 26 27 28 29      27 28 29 30               25 26 27 28 29 30 31\n30 31\n"
     ],
     "output_type": "stream"
    }
   ],
   "source": [
    "#31\n",
    "import calendar\n",
    "# 设置第一天是星期天\n",
    "calendar.setfirstweekday(firstweekday=6)\n",
    "\n",
    "n = int(input('请输入所查看日历的级别 1（输出全年），2（输出某月）：'))\n",
    "\n",
    "if n == 1:\n",
    "    yy = int(input(\"输入年份: \"))\n",
    "    cal = calendar.TextCalendar()\n",
    "    cal.pryear(yy)\n",
    "\n",
    "if n == 2:\n",
    "    yy = int(input(\"输入年份: \"))\n",
    "    mm = int(input(\"输入月份: \"))\n",
    "    print(calendar.month(yy, mm))\n"
   ],
   "metadata": {
    "collapsed": false,
    "pycharm": {
     "name": "#%%\n",
     "is_executing": false
    }
   }
  },
  {
   "cell_type": "code",
   "execution_count": 12,
   "outputs": [
    {
     "name": "stdout",
     "text": [
      "1 1 2 3 5 8 13 21 34 55 "
     ],
     "output_type": "stream"
    }
   ],
   "source": [
    "#32\n",
    "def Fibonacci(n):\n",
    "    if n <= 2:\n",
    "        return 1\n",
    "    else:\n",
    "        return Fibonacci(n - 1) + Fibonacci(n - 2)\n",
    "\n",
    "\n",
    "n = int(input(\"输入一个正整数n，n为输出项数:\"))\n",
    "for i in range(1, n + 1):\n",
    "    print(Fibonacci(i), end=' ')\n",
    "\n"
   ],
   "metadata": {
    "collapsed": false,
    "pycharm": {
     "name": "#%%\n",
     "is_executing": false
    }
   }
  },
  {
   "cell_type": "code",
   "execution_count": 13,
   "outputs": [
    {
     "name": "stdout",
     "text": [
      "其整数之和为： 55\n"
     ],
     "output_type": "stream"
    }
   ],
   "source": [
    "#33\n",
    "def sum(n):\n",
    "    if n == 1:\n",
    "        return 1\n",
    "    else:\n",
    "        return sum(n - 1) + n\n",
    "\n",
    "\n",
    "i = int(input('输入一个整数：'))\n",
    "print('其整数之和为：', (sum(i)))\n",
    "\n"
   ],
   "metadata": {
    "collapsed": false,
    "pycharm": {
     "name": "#%%\n",
     "is_executing": false
    }
   }
  },
  {
   "cell_type": "code",
   "execution_count": 14,
   "outputs": [
    {
     "name": "stdout",
     "text": [
      "5 的阶乘为 120\n"
     ],
     "output_type": "stream"
    }
   ],
   "source": [
    "#34\n",
    "def Factorial(n):\n",
    "    if n == 0:\n",
    "        return 1\n",
    "    else:\n",
    "        return n * Factorial(n - 1)\n",
    "\n",
    "\n",
    "i = int(input('输入一个整数：'))\n",
    "print(i, '的阶乘为', Factorial(i))\n",
    "\n"
   ],
   "metadata": {
    "collapsed": false,
    "pycharm": {
     "name": "#%%\n",
     "is_executing": false
    }
   }
  },
  {
   "cell_type": "code",
   "execution_count": 15,
   "outputs": [
    {
     "name": "stdout",
     "text": [
      "01010\n"
     ],
     "output_type": "stream"
    }
   ],
   "source": [
    "#35\n",
    "def dec2bin(n):\n",
    "    result = \"0\"\n",
    "    if n == 0:\n",
    "        return result\n",
    "    else:\n",
    "        result = dec2bin(n // 2)\n",
    "        return result + str(n % 2)\n",
    "\n",
    "\n",
    "n = int(input(\"请输入一个十进制的数字：\"))\n",
    "print(dec2bin(n))\n",
    "\n"
   ],
   "metadata": {
    "collapsed": false,
    "pycharm": {
     "name": "#%%\n",
     "is_executing": false
    }
   }
  },
  {
   "cell_type": "code",
   "execution_count": 16,
   "outputs": [
    {
     "name": "stdout",
     "text": [
      "[[1 2]\n [3 4]]\n\n[[3 2]\n [3 4]\n [9 6]]\n"
     ],
     "output_type": "stream"
    }
   ],
   "source": [
    "#36\n",
    "import numpy\n",
    "\n",
    "A = numpy.mat('1,2;3,4')\n",
    "B = numpy.array([[3, 2], [3, 4], [9, 6]])\n",
    "print(A)\n",
    "print('')\n",
    "print(B)\n",
    "\n"
   ],
   "metadata": {
    "collapsed": false,
    "pycharm": {
     "name": "#%%\n",
     "is_executing": false
    }
   }
  },
  {
   "cell_type": "code",
   "execution_count": 17,
   "outputs": [
    {
     "name": "stdout",
     "text": [
      "[[3 2]\n [3 4]\n [9 6]]\n\n[[3 3 9]\n [2 4 6]]\n"
     ],
     "output_type": "stream"
    }
   ],
   "source": [
    "#37\n",
    "import numpy\n",
    "\n",
    "A = numpy.array([[3, 2], [3, 4], [9, 6]])\n",
    "print(A)\n",
    "print('')\n",
    "print(A.T)\n",
    "\n"
   ],
   "metadata": {
    "collapsed": false,
    "pycharm": {
     "name": "#%%\n",
     "is_executing": false
    }
   }
  },
  {
   "cell_type": "code",
   "execution_count": 18,
   "outputs": [
    {
     "name": "stdout",
     "text": [
      "A:\n [[3 2]\n [3 4]\n [9 6]]\nB:\n [[3 1 2]\n [3 6 4]]\nA×B:\n [[15 15 14]\n [21 27 22]\n [45 45 42]]\n"
     ],
     "output_type": "stream"
    }
   ],
   "source": [
    "#38\n",
    "import numpy\n",
    "\n",
    "A = numpy.array([[3, 2], [3, 4], [9, 6]])\n",
    "B = numpy.array([[3, 1, 2], [3, 6, 4]])\n",
    "C = numpy.dot(A, B)\n",
    "print(\"A:\\n\", A)\n",
    "print(\"B:\\n\", B)\n",
    "print(\"A×B:\\n\", C)\n",
    "\n"
   ],
   "metadata": {
    "collapsed": false,
    "pycharm": {
     "name": "#%%\n",
     "is_executing": false
    }
   }
  },
  {
   "cell_type": "code",
   "execution_count": 19,
   "outputs": [
    {
     "name": "stdout",
     "text": [
      "abcba\n字符串是回文\n"
     ],
     "output_type": "stream"
    }
   ],
   "source": [
    "#39\n",
    "s = input(\"输入一个字符串:\")\n",
    "d = ''.join(reversed(s))\n",
    "print(d)\n",
    "if s == d:\n",
    "    print(\"字符串是回文\")\n",
    "else:\n",
    "    print(\"字符串不是回文\")\n",
    "\n"
   ],
   "metadata": {
    "collapsed": false,
    "pycharm": {
     "name": "#%%\n",
     "is_executing": false
    }
   }
  },
  {
   "cell_type": "code",
   "execution_count": 20,
   "outputs": [
    {
     "name": "stdout",
     "text": [
      "adfjkdffgdkfjk\n"
     ],
     "output_type": "stream"
    }
   ],
   "source": [
    "#40\n",
    "import string\n",
    "\n",
    "i = input(\"输入一条带标点的字符串(英文标点)：\")\n",
    "print(\"\".join(i.split('.')))\n",
    "\n"
   ],
   "metadata": {
    "collapsed": false,
    "pycharm": {
     "name": "#%%\n",
     "is_executing": false
    }
   }
  },
  {
   "cell_type": "code",
   "execution_count": 21,
   "outputs": [
    {
     "name": "stdout",
     "text": [
      "['c', 'c++', 'delphi', 'golang', 'java', 'python', 'python']\n"
     ],
     "output_type": "stream"
    }
   ],
   "source": [
    "#41\n",
    "list = [\"delphi\", \"java\", \"python\", \"python\", \"c++\", \"c\", \"golang\"]\n",
    "\n",
    "list.sort(reverse=False)  # 按降序排列\n",
    "\n",
    "print(list)\n",
    "\n"
   ],
   "metadata": {
    "collapsed": false,
    "pycharm": {
     "name": "#%%\n",
     "is_executing": false
    }
   }
  },
  {
   "cell_type": "code",
   "execution_count": 22,
   "outputs": [
    {
     "name": "stdout",
     "text": [
      "交集 {2, 3}\n并集 {0, 1, 2, 3, 4, 5, 6, 7}\n差集 {1, 4, 5}\n"
     ],
     "output_type": "stream"
    }
   ],
   "source": [
    "#42\n",
    "set1 = set([1, 2, 3, 4, 5])\n",
    "set2 = set([0, 2, 3, 6, 7])\n",
    "\n",
    "print('交集', set1 & set2)\n",
    "print('并集', set1 | set2)\n",
    "print('差集', set1 - set2)\n",
    "\n"
   ],
   "metadata": {
    "collapsed": false,
    "pycharm": {
     "name": "#%%\n",
     "is_executing": false
    }
   }
  },
  {
   "cell_type": "code",
   "execution_count": 2,
   "outputs": [
    {
     "name": "stdout",
     "text": [
      "a: 1 e: 1 i: 0 o: 0 u: 0\n"
     ],
     "output_type": "stream"
    }
   ],
   "source": [
    "#43\n",
    "str1 = input('请输入一个字符串')\n",
    "\n",
    "strList = list(str1)\n",
    "a = 0\n",
    "e = 0\n",
    "i = 0\n",
    "o = 0\n",
    "u = 0\n",
    "\n",
    "for n in range(0, len(str1)):\n",
    "    if strList[n] == 'a':\n",
    "        a = a + 1\n",
    "    elif strList[n] == 'e':\n",
    "        e = e + 1\n",
    "    elif strList[n] == 'i':\n",
    "        i = i + 1\n",
    "    elif strList[n] == 'o':\n",
    "        o = o + 1\n",
    "    elif strList[n] == 'u':\n",
    "        u = u + 1\n",
    "\n",
    "print('a:', a, 'e:', e, 'i:', i, 'o:', o, 'u:', u)\n"
   ],
   "metadata": {
    "collapsed": false,
    "pycharm": {
     "name": "#%%\n",
     "is_executing": false
    }
   }
  },
  {
   "cell_type": "code",
   "execution_count": 3,
   "outputs": [],
   "source": [
    "#44\n",
    "from mailmerge import MailMerge\n",
    "\n",
    "doc = MailMerge(\"./Ex44_file/test.docx\")\n",
    "doc.merge(\n",
    "    username=\"ddu\",\n",
    "    clazz=\"17计算机科学与技术\"\n",
    ")\n",
    "\n",
    "doc.write(\"./Ex44_file/res.docx\")\n"
   ],
   "metadata": {
    "collapsed": false,
    "pycharm": {
     "name": "#%%\n",
     "is_executing": false
    }
   }
  },
  {
   "cell_type": "code",
   "execution_count": 27,
   "outputs": [
    {
     "name": "stdout",
     "text": [
      "(471, 472)\n"
     ],
     "output_type": "stream"
    }
   ],
   "source": [
    "#45\n",
    "from PIL import Image\n",
    "\n",
    "fileName = \"./Ex45_file/tuxiang.jpg\"\n",
    "img = Image.open(fileName)\n",
    "\n",
    "imgSize = img.size\n",
    "\n",
    "print(imgSize)\n",
    "\n"
   ],
   "metadata": {
    "collapsed": false,
    "pycharm": {
     "name": "#%%\n",
     "is_executing": false
    }
   }
  },
  {
   "cell_type": "code",
   "execution_count": 28,
   "outputs": [
    {
     "name": "stdout",
     "text": [
      "[77, 44, 55, 20, 26, 93, 17, None, None, 31, 54]\n['bird', 'goat', 'pig', 'chicken', 'dog', 'lion', 'tiger', None, None, 'cow', 'cat']\nchicken\nduck\nNone\n"
     ],
     "output_type": "stream"
    }
   ],
   "source": [
    "#46\n",
    "# 实现hashtable,指定在key位置存入data\n",
    "class HashTable:\n",
    "    def __init__(self):\n",
    "        self.size = 11\n",
    "        self.slots = [None] * self.size\n",
    "        self.data = [None] * self.size\n",
    "\n",
    "    def put(self, key, value):\n",
    "        hashvalue = self.hashfunction(key, len(self.slots))\n",
    "        if self.slots[hashvalue] is None:  # 如果slot内是空值，则存进去\n",
    "            self.slots[hashvalue] = key\n",
    "            self.data[hashvalue] = value\n",
    "        else:  # slot内已有key\n",
    "            if self.slots[hashvalue] == key:  # 如果已有值等于key，更新data\n",
    "                self.data[hashvalue] = value\n",
    "            else:  # 如果slot不等于key,找下一个为None的地方\n",
    "                nextslot = self.rehash(hashvalue, len(self.slots))\n",
    "                while self.slots[nextslot] is not None and self.slots[nextslot] != key:\n",
    "                    nextslot = self.rehash(nextslot, len(self.slots))\n",
    "\n",
    "                if self.slots[nextslot] is None:\n",
    "                    self.slots[nextslot] = key\n",
    "                    self.data[nextslot] = value\n",
    "                else:\n",
    "                    self.data[nextslot] = value\n",
    "\n",
    "    def rehash(self, oldhash, size):\n",
    "        return (oldhash + 1) % size\n",
    "\n",
    "    # 散列函数\n",
    "    def hashfunction(self, key, size):\n",
    "        return key % size\n",
    "\n",
    "    def get(self, key):\n",
    "        startslot = self.hashfunction(key, len(self.slots))\n",
    "        data = None\n",
    "        found = False\n",
    "        stop = False\n",
    "        pos = startslot\n",
    "        while pos is not None and not found and not stop:\n",
    "            if self.slots[pos] == key:\n",
    "                found = True\n",
    "                data = self.data[pos]\n",
    "            else:\n",
    "                pos = self.rehash(pos, len(self.slots))\n",
    "                # 回到了原点，表示找遍了没有找到\n",
    "                if pos == startslot:\n",
    "                    stop = True\n",
    "        return data\n",
    "\n",
    "    # 重载载 __getitem__ 和 __setitem__ 方法以允许使用 [] 访问\n",
    "    def __getitem__(self, key):\n",
    "        return self.get(key)\n",
    "\n",
    "    def __setitem__(self, key, value):\n",
    "        return self.put(key, value)\n",
    "\n",
    "\n",
    "if __name__ == '__main__':\n",
    "    H = HashTable()\n",
    "    H[54] = \"cat\"\n",
    "    H[26] = \"dog\"\n",
    "    H[93] = \"lion\"\n",
    "    H[17] = \"tiger\"\n",
    "    H[77] = \"bird\"\n",
    "    H[31] = \"cow\"\n",
    "    H[44] = \"goat\"\n",
    "    H[55] = \"pig\"\n",
    "    H[20] = \"chicken\"\n",
    "\n",
    "    print(H.slots)  # [77, 44, 55, 20, 26, 93, 17, None, None, 31, 54]\n",
    "    print(H.data)  # ['bird', 'goat', 'pig', 'chicken', 'dog', 'lion', 'tiger', None, None, 'cow', 'cat']\n",
    "    print(H[20])  # 'chicken'\n",
    "    H[20] = 'duck'\n",
    "    print(H[20])  # duck\n",
    "    print(H[99])  # None\n",
    "\n"
   ],
   "metadata": {
    "collapsed": false,
    "pycharm": {
     "name": "#%%\n",
     "is_executing": false
    }
   }
  }
 ],
 "metadata": {
  "kernelspec": {
   "display_name": "Python 3",
   "language": "python",
   "name": "python3"
  },
  "language_info": {
   "codemirror_mode": {
    "name": "ipython",
    "version": 2
   },
   "file_extension": ".py",
   "mimetype": "text/x-python",
   "name": "python",
   "nbconvert_exporter": "python",
   "pygments_lexer": "ipython2",
   "version": "2.7.6"
  },
  "pycharm": {
   "stem_cell": {
    "cell_type": "raw",
    "source": [],
    "metadata": {
     "collapsed": false
    }
   }
  }
 },
 "nbformat": 4,
 "nbformat_minor": 0
}